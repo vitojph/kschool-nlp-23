{
 "cells": [
  {
   "cell_type": "code",
   "execution_count": null,
   "metadata": {
    "Collapsed": "false"
   },
   "outputs": [],
   "source": [
    "# install the requirements\n",
    "!pip install spacy\n",
    "!python -m spacy download es_core_news_md\n",
    "!python -m spacy download en_core_web_md"
   ]
  },
  {
   "cell_type": "markdown",
   "metadata": {
    "Collapsed": "false"
   },
   "source": [
    "# `spacy`: el *Ruby on Rails* del PLN\n",
    "\n",
    "[spacy](http://www.spacy.io/) es una librería de procesamiento del lenguaje natural, robusta, rápida, fácil de instalar y utilizar e integrable con [otras librerías de *NLP* y de *deep learning*](https://spacy.io/usage/facts-figures#section-other-libraries). \n",
    "\n",
    "Tiene modelos entrenados en varios idiomas y permite realizar las [típicas tareas](https://spacy.io/usage/facts-figures) de segmentación por oraciones, tokenizanción, análisis morfológico, extracción de entidades y análisis de opinión."
   ]
  },
  {
   "cell_type": "markdown",
   "metadata": {
    "Collapsed": "false"
   },
   "source": [
    "Una vez instalados los modelos, podemos importarlos fácilmente:"
   ]
  },
  {
   "cell_type": "code",
   "execution_count": 1,
   "metadata": {
    "Collapsed": "false"
   },
   "outputs": [],
   "source": [
    "import spacy\n",
    "\n",
    "# cargamos el modelo entrenado en español\n",
    "nlp = spacy.load(\"es_core_news_md\")"
   ]
  },
  {
   "cell_type": "code",
   "execution_count": 2,
   "metadata": {
    "Collapsed": "false"
   },
   "outputs": [],
   "source": [
    "texto = \"\"\"España incumple la regla del déficit del euro y queda como único país bajo el control de Bruselas. \n",
    "España no aprobará finalmente la regla europa del déficit y se quedará como único país de la Eurozona que \n",
    "suspende y sigue bajo vigilancia. El Gobierno se salta finalmente el requisito de saneamiento presupuestario \n",
    "del Tratado de Maastricht y obtiene así más margen de gasto en 2018.\"\"\"\n",
    "\n",
    "# y procesamos el texto\n",
    "doc = nlp(texto)"
   ]
  },
  {
   "cell_type": "markdown",
   "metadata": {
    "Collapsed": "false"
   },
   "source": [
    "## Procesando oraciones, palabras y entidades\n",
    "\n",
    "Podemos iterar fácilmente sobre la lista de oraciones y recorrer los tokens para acceder a su información morfo-sintáctica:"
   ]
  },
  {
   "cell_type": "code",
   "execution_count": 3,
   "metadata": {
    "Collapsed": "false"
   },
   "outputs": [
    {
     "name": "stdout",
     "output_type": "stream",
     "text": [
      "Oración: España incumple la regla del déficit del euro y queda como único país bajo el control de Bruselas. \n",
      "\n",
      "España/España => etiqueta PROPN/PROPN y dependencia nsubj\n",
      "incumple/incumplir => etiqueta VERB/VERB__Mood=Ind|Number=Sing|Person=3|Tense=Pres|VerbForm=Fin y dependencia ROOT\n",
      "la/lo => etiqueta DET/DET__Definite=Def|Gender=Fem|Number=Sing|PronType=Art y dependencia det\n",
      "regla/reglar => etiqueta NOUN/NOUN__Gender=Fem|Number=Sing y dependencia obj\n",
      "del/del => etiqueta ADP/ADP__AdpType=Preppron y dependencia case\n",
      "déficit/déficit => etiqueta NOUN/NOUN__Gender=Masc|Number=Sing y dependencia nmod\n",
      "del/del => etiqueta ADP/ADP__AdpType=Preppron y dependencia case\n",
      "euro/euro => etiqueta NOUN/NOUN__Gender=Masc|Number=Sing y dependencia nmod\n",
      "y/y => etiqueta CCONJ/CCONJ y dependencia cc\n",
      "queda/quedo => etiqueta VERB/VERB__Mood=Ind|Number=Sing|Person=3|Tense=Pres|VerbForm=Fin y dependencia conj\n",
      "como/comer => etiqueta SCONJ/SCONJ y dependencia mark\n",
      "único/único => etiqueta ADJ/ADJ__Gender=Masc|Number=Sing y dependencia amod\n",
      "país/país => etiqueta NOUN/NOUN__Gender=Masc|Number=Sing y dependencia obj\n",
      "bajo/bajar => etiqueta ADP/ADP__AdpType=Prep y dependencia case\n",
      "el/el => etiqueta DET/DET__Definite=Def|Gender=Masc|Number=Sing|PronType=Art y dependencia det\n",
      "control/control => etiqueta NOUN/NOUN__Gender=Masc|Number=Sing y dependencia obl\n",
      "de/de => etiqueta ADP/ADP__AdpType=Prep y dependencia case\n",
      "Bruselas/Bruselas => etiqueta PROPN/PROPN y dependencia nmod\n",
      "./. => etiqueta PUNCT/PUNCT__PunctType=Peri y dependencia punct\n",
      "\n",
      "/\n",
      " => etiqueta SPACE/_SP y dependencia \n",
      "Oración: España no aprobará finalmente la regla europa del déficit y se quedará como único país de la Eurozona que \n",
      "suspende y sigue bajo vigilancia.\n",
      "España/España => etiqueta PROPN/PROPN y dependencia nsubj\n",
      "no/no => etiqueta ADV/ADV__Polarity=Neg y dependencia advmod\n",
      "aprobará/aprobar => etiqueta VERB/VERB__Mood=Ind|Number=Sing|Person=3|Tense=Fut|VerbForm=Fin y dependencia ROOT\n",
      "finalmente/finalmente => etiqueta ADV/ADV y dependencia advmod\n",
      "la/lo => etiqueta DET/DET__Definite=Def|Gender=Fem|Number=Sing|PronType=Art y dependencia det\n",
      "regla/reglar => etiqueta NOUN/NOUN__Gender=Fem|Number=Sing y dependencia obj\n",
      "europa/europa => etiqueta PROPN/PROPN y dependencia appos\n",
      "del/del => etiqueta ADP/ADP__AdpType=Preppron y dependencia case\n",
      "déficit/déficit => etiqueta NOUN/NOUN__Gender=Masc|Number=Sing y dependencia nmod\n",
      "y/y => etiqueta CCONJ/CCONJ y dependencia cc\n",
      "se/se => etiqueta PRON/PRON__Case=Acc,Dat|Person=3|PrepCase=Npr|PronType=Prs|Reflex=Yes y dependencia obj\n",
      "quedará/quedar => etiqueta VERB/VERB__Mood=Ind|Number=Sing|Person=3|Tense=Fut|VerbForm=Fin y dependencia conj\n",
      "como/comer => etiqueta SCONJ/SCONJ y dependencia mark\n",
      "único/único => etiqueta ADJ/ADJ__Gender=Masc|Number=Sing y dependencia amod\n",
      "país/país => etiqueta NOUN/NOUN__Gender=Masc|Number=Sing y dependencia obl\n",
      "de/de => etiqueta ADP/ADP__AdpType=Prep y dependencia case\n",
      "la/lo => etiqueta DET/DET__Definite=Def|Gender=Fem|Number=Sing|PronType=Art y dependencia det\n",
      "Eurozona/Eurozona => etiqueta PROPN/PROPN y dependencia nmod\n",
      "que/que => etiqueta SCONJ/PRON__PronType=Int,Rel y dependencia obj\n",
      "\n",
      "/\n",
      " => etiqueta SPACE/_SP y dependencia \n",
      "suspende/suspender => etiqueta VERB/VERB__Mood=Ind|Number=Sing|Person=3|Tense=Pres|VerbForm=Fin y dependencia advcl\n",
      "y/y => etiqueta CCONJ/CCONJ y dependencia cc\n",
      "sigue/seguir => etiqueta VERB/VERB__Mood=Ind|Number=Sing|Person=3|Tense=Pres|VerbForm=Fin y dependencia conj\n",
      "bajo/bajar => etiqueta ADP/ADP__AdpType=Prep y dependencia case\n",
      "vigilancia/vigilancia => etiqueta NOUN/NOUN__Gender=Fem|Number=Sing y dependencia obl\n",
      "./. => etiqueta PUNCT/PUNCT__PunctType=Peri y dependencia punct\n",
      "Oración: El Gobierno se salta finalmente el requisito de saneamiento presupuestario \n",
      "del Tratado de Maastricht y obtiene así más margen de gasto en 2018.\n",
      "El/El => etiqueta DET/DET__Definite=Def|Gender=Masc|Number=Sing|PronType=Art y dependencia det\n",
      "Gobierno/Gobierno => etiqueta PROPN/PROPN y dependencia nsubj\n",
      "se/se => etiqueta PRON/PRON__Case=Acc,Dat|Person=3|PrepCase=Npr|PronType=Prs|Reflex=Yes y dependencia obj\n",
      "salta/saltar => etiqueta VERB/VERB__Mood=Ind|Number=Sing|Person=3|Tense=Pres|VerbForm=Fin y dependencia ROOT\n",
      "finalmente/finalmente => etiqueta ADV/ADV y dependencia advmod\n",
      "el/el => etiqueta DET/DET__Definite=Def|Gender=Masc|Number=Sing|PronType=Art y dependencia det\n",
      "requisito/requerir => etiqueta NOUN/NOUN__Gender=Masc|Number=Sing y dependencia obj\n",
      "de/de => etiqueta ADP/ADP__AdpType=Prep y dependencia case\n",
      "saneamiento/saneamiento => etiqueta NOUN/NOUN__Gender=Masc|Number=Sing y dependencia nmod\n",
      "presupuestario/presupuestario => etiqueta ADJ/ADJ__Gender=Masc|Number=Sing y dependencia amod\n",
      "\n",
      "/\n",
      " => etiqueta SPACE/_SP y dependencia \n",
      "del/del => etiqueta ADP/ADP__AdpType=Preppron y dependencia case\n",
      "Tratado/Tratado => etiqueta PROPN/PROPN y dependencia nmod\n",
      "de/de => etiqueta ADP/ADP__AdpType=Prep y dependencia case\n",
      "Maastricht/Maastricht => etiqueta PROPN/PROPN y dependencia flat\n",
      "y/y => etiqueta CCONJ/CCONJ y dependencia cc\n",
      "obtiene/obtener => etiqueta VERB/VERB__Mood=Ind|Number=Sing|Person=3|Tense=Pres|VerbForm=Fin y dependencia conj\n",
      "así/asir => etiqueta ADV/ADV y dependencia advmod\n",
      "más/más => etiqueta ADV/ADV__Degree=Cmp y dependencia advmod\n",
      "margen/margen => etiqueta NOUN/NOUN__Number=Sing y dependencia obj\n",
      "de/de => etiqueta ADP/ADP__AdpType=Prep y dependencia case\n",
      "gasto/gastar => etiqueta NOUN/NOUN__Gender=Masc|Number=Sing y dependencia nmod\n",
      "en/en => etiqueta ADP/ADP__AdpType=Prep y dependencia case\n",
      "2018/2018 => etiqueta NOUN/NOUN__AdvType=Tim y dependencia obl\n",
      "./. => etiqueta PUNCT/PUNCT__PunctType=Peri y dependencia punct\n"
     ]
    }
   ],
   "source": [
    "for sentence in doc.sents:\n",
    "    print(\"Oración: {}\".format(sentence))\n",
    "    for token in sentence:\n",
    "        print(\n",
    "            \"{}/{} => etiqueta {}/{} y dependencia {}\".format(\n",
    "                token, token.lemma_, token.pos_, token.tag_, token.dep_\n",
    "            )\n",
    "        )"
   ]
  },
  {
   "cell_type": "markdown",
   "metadata": {
    "Collapsed": "false"
   },
   "source": [
    "El elemeno `doc` tiene una propiedad `.ents` que permite acceder a las entidades nombradas que hayan sido localizadas:"
   ]
  },
  {
   "cell_type": "code",
   "execution_count": 4,
   "metadata": {
    "Collapsed": "false"
   },
   "outputs": [
    {
     "name": "stdout",
     "output_type": "stream",
     "text": [
      "(España, Bruselas, España, Eurozona, El Gobierno, Tratado de Maastricht)\n",
      "España es de tipo LOC\n",
      "Bruselas es de tipo LOC\n",
      "España es de tipo LOC\n",
      "Eurozona es de tipo ORG\n",
      "El Gobierno es de tipo LOC\n",
      "Tratado de Maastricht es de tipo MISC\n"
     ]
    }
   ],
   "source": [
    "print(doc.ents)\n",
    "\n",
    "for entity in doc.ents:\n",
    "    print(\"{} es de tipo {}\".format(entity, entity.label_))"
   ]
  },
  {
   "cell_type": "markdown",
   "metadata": {
    "Collapsed": "false"
   },
   "source": [
    "## Visualizando árboles de dependencias y entidades\n",
    "\n",
    "Podemos acceder al árbol completo a través del método `.print_tree()`:"
   ]
  },
  {
   "cell_type": "code",
   "execution_count": null,
   "metadata": {
    "Collapsed": "false"
   },
   "outputs": [],
   "source": [
    "doc.to_json()"
   ]
  },
  {
   "cell_type": "markdown",
   "metadata": {
    "Collapsed": "false"
   },
   "source": [
    "Pero también se puede dibujar el grafo con las dependencias:"
   ]
  },
  {
   "cell_type": "code",
   "execution_count": null,
   "metadata": {
    "Collapsed": "false"
   },
   "outputs": [],
   "source": [
    "from spacy import displacy\n",
    "\n",
    "displacy.serve(doc, style=\"dep\")"
   ]
  },
  {
   "cell_type": "markdown",
   "metadata": {
    "Collapsed": "false"
   },
   "source": [
    "O el de las entidades:"
   ]
  },
  {
   "cell_type": "code",
   "execution_count": 5,
   "metadata": {
    "Collapsed": "false"
   },
   "outputs": [
    {
     "name": "stderr",
     "output_type": "stream",
     "text": [
      "/home/victor/miniconda3/envs/nlp/lib/python3.8/site-packages/spacy/displacy/__init__.py:94: UserWarning: [W011] It looks like you're calling displacy.serve from within a Jupyter notebook or a similar environment. This likely means you're already running a local web server, so there's no need to make displaCy start another one. Instead, you should be able to replace displacy.serve with displacy.render to show the visualization.\n",
      "  warnings.warn(Warnings.W011)\n"
     ]
    },
    {
     "data": {
      "text/html": [
       "<span class=\"tex2jax_ignore\"><!DOCTYPE html>\n",
       "<html lang=\"es\">\n",
       "    <head>\n",
       "        <title>displaCy</title>\n",
       "    </head>\n",
       "\n",
       "    <body style=\"font-size: 16px; font-family: -apple-system, BlinkMacSystemFont, 'Segoe UI', Helvetica, Arial, sans-serif, 'Apple Color Emoji', 'Segoe UI Emoji', 'Segoe UI Symbol'; padding: 4rem 2rem; direction: ltr\">\n",
       "<figure style=\"margin-bottom: 6rem\">\n",
       "<div class=\"entities\" style=\"line-height: 2.5; direction: ltr\">\n",
       "<mark class=\"entity\" style=\"background: #ff9561; padding: 0.45em 0.6em; margin: 0 0.25em; line-height: 1; border-radius: 0.35em;\">\n",
       "    España\n",
       "    <span style=\"font-size: 0.8em; font-weight: bold; line-height: 1; border-radius: 0.35em; text-transform: uppercase; vertical-align: middle; margin-left: 0.5rem\">LOC</span>\n",
       "</mark>\n",
       " incumple la regla del déficit del euro y queda como único país bajo el control de \n",
       "<mark class=\"entity\" style=\"background: #ff9561; padding: 0.45em 0.6em; margin: 0 0.25em; line-height: 1; border-radius: 0.35em;\">\n",
       "    Bruselas\n",
       "    <span style=\"font-size: 0.8em; font-weight: bold; line-height: 1; border-radius: 0.35em; text-transform: uppercase; vertical-align: middle; margin-left: 0.5rem\">LOC</span>\n",
       "</mark>\n",
       ". </br>\n",
       "<mark class=\"entity\" style=\"background: #ff9561; padding: 0.45em 0.6em; margin: 0 0.25em; line-height: 1; border-radius: 0.35em;\">\n",
       "    España\n",
       "    <span style=\"font-size: 0.8em; font-weight: bold; line-height: 1; border-radius: 0.35em; text-transform: uppercase; vertical-align: middle; margin-left: 0.5rem\">LOC</span>\n",
       "</mark>\n",
       " no aprobará finalmente la regla europa del déficit y se quedará como único país de la \n",
       "<mark class=\"entity\" style=\"background: #7aecec; padding: 0.45em 0.6em; margin: 0 0.25em; line-height: 1; border-radius: 0.35em;\">\n",
       "    Eurozona\n",
       "    <span style=\"font-size: 0.8em; font-weight: bold; line-height: 1; border-radius: 0.35em; text-transform: uppercase; vertical-align: middle; margin-left: 0.5rem\">ORG</span>\n",
       "</mark>\n",
       " que </br>suspende y sigue bajo vigilancia. \n",
       "<mark class=\"entity\" style=\"background: #ff9561; padding: 0.45em 0.6em; margin: 0 0.25em; line-height: 1; border-radius: 0.35em;\">\n",
       "    El Gobierno\n",
       "    <span style=\"font-size: 0.8em; font-weight: bold; line-height: 1; border-radius: 0.35em; text-transform: uppercase; vertical-align: middle; margin-left: 0.5rem\">LOC</span>\n",
       "</mark>\n",
       " se salta finalmente el requisito de saneamiento presupuestario </br>del \n",
       "<mark class=\"entity\" style=\"background: #ddd; padding: 0.45em 0.6em; margin: 0 0.25em; line-height: 1; border-radius: 0.35em;\">\n",
       "    Tratado de Maastricht\n",
       "    <span style=\"font-size: 0.8em; font-weight: bold; line-height: 1; border-radius: 0.35em; text-transform: uppercase; vertical-align: middle; margin-left: 0.5rem\">MISC</span>\n",
       "</mark>\n",
       " y obtiene así más margen de gasto en 2018.</div>\n",
       "</figure>\n",
       "</body>\n",
       "</html></span>"
      ],
      "text/plain": [
       "<IPython.core.display.HTML object>"
      ]
     },
     "metadata": {},
     "output_type": "display_data"
    },
    {
     "name": "stdout",
     "output_type": "stream",
     "text": [
      "\n",
      "Using the 'ent' visualizer\n",
      "Serving on http://0.0.0.0:5000 ...\n",
      "\n",
      "Shutting down server on port 5000.\n"
     ]
    }
   ],
   "source": [
    "from spacy import displacy\n",
    "\n",
    "displacy.serve(doc, style=\"ent\")"
   ]
  },
  {
   "cell_type": "code",
   "execution_count": null,
   "metadata": {
    "Collapsed": "false"
   },
   "outputs": [],
   "source": [
    "texto = \"\"\"Los ciudadanos españoles son conscientes de que esa salida de Reino Unido no será gratuita. Literalmente. Uno de cada tres teme que el Brexit le cueste caro a la economía española: el 36,9% prevé consecuencias «muy negativas» para sus bolsillos.\"\"\"\n",
    "doc = nlp(texto)\n",
    "displacy.serve(doc, style=\"ent\")"
   ]
  },
  {
   "cell_type": "code",
   "execution_count": 6,
   "metadata": {
    "Collapsed": "false"
   },
   "outputs": [],
   "source": [
    "nlp_en = spacy.load(\"en_core_web_md\")"
   ]
  },
  {
   "cell_type": "code",
   "execution_count": 7,
   "metadata": {
    "Collapsed": "false"
   },
   "outputs": [
    {
     "data": {
      "text/html": [
       "<span class=\"tex2jax_ignore\"><!DOCTYPE html>\n",
       "<html lang=\"en\">\n",
       "    <head>\n",
       "        <title>displaCy</title>\n",
       "    </head>\n",
       "\n",
       "    <body style=\"font-size: 16px; font-family: -apple-system, BlinkMacSystemFont, 'Segoe UI', Helvetica, Arial, sans-serif, 'Apple Color Emoji', 'Segoe UI Emoji', 'Segoe UI Symbol'; padding: 4rem 2rem; direction: ltr\">\n",
       "<figure style=\"margin-bottom: 6rem\">\n",
       "<div class=\"entities\" style=\"line-height: 2.5; direction: ltr\">A trade war between the world’s \n",
       "<mark class=\"entity\" style=\"background: #e4e7d2; padding: 0.45em 0.6em; margin: 0 0.25em; line-height: 1; border-radius: 0.35em;\">\n",
       "    two\n",
       "    <span style=\"font-size: 0.8em; font-weight: bold; line-height: 1; border-radius: 0.35em; text-transform: uppercase; vertical-align: middle; margin-left: 0.5rem\">CARDINAL</span>\n",
       "</mark>\n",
       " largest economies officially began on \n",
       "<mark class=\"entity\" style=\"background: #bfe1d9; padding: 0.45em 0.6em; margin: 0 0.25em; line-height: 1; border-radius: 0.35em;\">\n",
       "    Friday\n",
       "    <span style=\"font-size: 0.8em; font-weight: bold; line-height: 1; border-radius: 0.35em; text-transform: uppercase; vertical-align: middle; margin-left: 0.5rem\">DATE</span>\n",
       "</mark>\n",
       " \n",
       "<mark class=\"entity\" style=\"background: #bfe1d9; padding: 0.45em 0.6em; margin: 0 0.25em; line-height: 1; border-radius: 0.35em;\">\n",
       "    morning\n",
       "    <span style=\"font-size: 0.8em; font-weight: bold; line-height: 1; border-radius: 0.35em; text-transform: uppercase; vertical-align: middle; margin-left: 0.5rem\">TIME</span>\n",
       "</mark>\n",
       " as the \n",
       "<mark class=\"entity\" style=\"background: #7aecec; padding: 0.45em 0.6em; margin: 0 0.25em; line-height: 1; border-radius: 0.35em;\">\n",
       "    Trump\n",
       "    <span style=\"font-size: 0.8em; font-weight: bold; line-height: 1; border-radius: 0.35em; text-transform: uppercase; vertical-align: middle; margin-left: 0.5rem\">ORG</span>\n",
       "</mark>\n",
       " </br>administration followed through with its threat to impose tariffs on \n",
       "<mark class=\"entity\" style=\"background: #e4e7d2; padding: 0.45em 0.6em; margin: 0 0.25em; line-height: 1; border-radius: 0.35em;\">\n",
       "    $34 billion\n",
       "    <span style=\"font-size: 0.8em; font-weight: bold; line-height: 1; border-radius: 0.35em; text-transform: uppercase; vertical-align: middle; margin-left: 0.5rem\">MONEY</span>\n",
       "</mark>\n",
       " worth of \n",
       "<mark class=\"entity\" style=\"background: #c887fb; padding: 0.45em 0.6em; margin: 0 0.25em; line-height: 1; border-radius: 0.35em;\">\n",
       "    Chinese\n",
       "    <span style=\"font-size: 0.8em; font-weight: bold; line-height: 1; border-radius: 0.35em; text-transform: uppercase; vertical-align: middle; margin-left: 0.5rem\">NORP</span>\n",
       "</mark>\n",
       " products, a </br>significant escalation of a fight that could hurt companies and consumers in both \n",
       "<mark class=\"entity\" style=\"background: #feca74; padding: 0.45em 0.6em; margin: 0 0.25em; line-height: 1; border-radius: 0.35em;\">\n",
       "    the United States\n",
       "    <span style=\"font-size: 0.8em; font-weight: bold; line-height: 1; border-radius: 0.35em; text-transform: uppercase; vertical-align: middle; margin-left: 0.5rem\">GPE</span>\n",
       "</mark>\n",
       " and \n",
       "<mark class=\"entity\" style=\"background: #feca74; padding: 0.45em 0.6em; margin: 0 0.25em; line-height: 1; border-radius: 0.35em;\">\n",
       "    China\n",
       "    <span style=\"font-size: 0.8em; font-weight: bold; line-height: 1; border-radius: 0.35em; text-transform: uppercase; vertical-align: middle; margin-left: 0.5rem\">GPE</span>\n",
       "</mark>\n",
       ".</div>\n",
       "</figure>\n",
       "</body>\n",
       "</html></span>"
      ],
      "text/plain": [
       "<IPython.core.display.HTML object>"
      ]
     },
     "metadata": {},
     "output_type": "display_data"
    },
    {
     "name": "stdout",
     "output_type": "stream",
     "text": [
      "\n",
      "Using the 'ent' visualizer\n",
      "Serving on http://0.0.0.0:5000 ...\n",
      "\n",
      "Shutting down server on port 5000.\n"
     ]
    }
   ],
   "source": [
    "text = \"\"\"A trade war between the world’s two largest economies officially began on Friday morning as the Trump \n",
    "administration followed through with its threat to impose tariffs on $34 billion worth of Chinese products, a \n",
    "significant escalation of a fight that could hurt companies and consumers in both the United States and China.\"\"\"\n",
    "doc = nlp_en(text)\n",
    "displacy.serve(doc, style=\"ent\")"
   ]
  },
  {
   "cell_type": "markdown",
   "metadata": {
    "Collapsed": "false"
   },
   "source": [
    "## Similitud semántica entre palabras, frases y documentos\n",
    "\n",
    "spaCy permite [calcular la similitud semántica](https://spacy.io/usage/vectors-similarity) entre cualquier par de objetos de tipo `Doc`, `Span` o `Token`. \n",
    "\n",
    "Ojo, La similitud semántica es un concepto algo subjetivo, pero en este caso se puede entender como la probabilidad de que dos palabras aparezcan en los mismos contextos."
   ]
  },
  {
   "cell_type": "code",
   "execution_count": 8,
   "metadata": {
    "Collapsed": "false"
   },
   "outputs": [
    {
     "name": "stdout",
     "output_type": "stream",
     "text": [
      "cats vs dogs 0.83117634\n",
      "research vs development 0.5828718\n",
      "cats vs development 0.104666404\n"
     ]
    }
   ],
   "source": [
    "# analizamos algunas colocaciones en inglés\n",
    "token1, _, token2 = nlp_en(\"cats and dogs\")\n",
    "token3, _, token4 = nlp_en(\"research and development\")\n",
    "\n",
    "# medimos la similitud semántica entre algunos pares\n",
    "print(token1, \"vs\", token2, token1.similarity(token2))\n",
    "print(token3, \"vs\", token4, token3.similarity(token4))\n",
    "print(token1, \"vs\", token4, token1.similarity(token4))"
   ]
  },
  {
   "cell_type": "code",
   "execution_count": 9,
   "metadata": {
    "Collapsed": "false"
   },
   "outputs": [
    {
     "name": "stdout",
     "output_type": "stream",
     "text": [
      "perros vs gatos 0.87088835\n",
      "investigación vs desarrollo 0.69238174\n",
      "perros vs desarrollo 0.016273146\n"
     ]
    }
   ],
   "source": [
    "# ¿qué tal funciona en español?\n",
    "token1, _, token2 = nlp(\"perros y gatos\")\n",
    "token3, _, token4 = nlp(\"investigación y desarrollo\")\n",
    "\n",
    "# medimos la similitud semántica entre algunos pares\n",
    "print(token1, \"vs\", token2, token1.similarity(token2))\n",
    "print(token3, \"vs\", token4, token3.similarity(token4))\n",
    "print(token1, \"vs\", token4, token1.similarity(token4))"
   ]
  },
  {
   "cell_type": "code",
   "execution_count": 13,
   "metadata": {},
   "outputs": [
    {
     "data": {
      "text/plain": [
       "array([ 2.1515e+00,  1.2182e+00,  7.6666e-02, -5.3475e-01,  3.4992e+00,\n",
       "        7.4324e-01, -3.8371e+00, -2.4022e+00,  1.4655e+00,  4.3309e+00,\n",
       "       -2.3522e+00, -7.1208e-01,  2.3551e+00,  5.5128e-01, -1.3499e+00,\n",
       "       -5.3425e-01, -8.5916e-01, -3.0156e+00,  4.9973e-01, -2.5406e+00,\n",
       "        3.0369e-02, -9.7725e-01, -4.2862e-02,  4.6845e+00, -1.2609e+00,\n",
       "       -2.7482e+00,  2.9139e-02, -8.5551e-01, -4.3369e-01,  2.9800e+00,\n",
       "       -8.1496e-02,  3.6015e+00,  7.1080e-01, -2.8413e-01,  1.9545e-01,\n",
       "        1.0435e+00,  2.2440e-01, -1.4760e+00,  5.4277e-01,  5.0610e-01,\n",
       "       -6.5236e-01,  2.7987e+00, -4.3905e+00, -1.1226e+00, -1.3405e+00,\n",
       "       -1.3589e+00, -4.1786e-01,  2.5365e+00,  2.2368e+00,  1.7861e+00,\n",
       "        2.3990e+00, -1.3182e-01, -8.0125e-02,  1.5098e+00, -9.7674e-01,\n",
       "        3.2538e-01,  6.8278e-01,  8.5918e-01, -1.2782e+00,  1.0627e+00,\n",
       "       -4.3682e-01,  3.4586e-01,  1.3872e+00, -2.3443e+00, -5.5451e-01,\n",
       "       -4.7095e-01,  1.6325e+00, -2.5439e+00, -1.2369e+00,  1.7248e-01,\n",
       "        1.9292e+00,  2.8560e+00, -2.8125e+00, -1.7425e+00, -1.0430e+00,\n",
       "       -1.8983e+00, -1.3434e-01,  1.3826e+00, -3.2415e+00, -3.9997e+00,\n",
       "        6.2913e-01,  9.2873e-01,  1.4371e+00, -8.9278e-01, -1.2721e+00,\n",
       "        1.9799e+00,  1.9621e-03, -1.6165e+00, -1.7756e+00,  1.3867e-01,\n",
       "        2.2093e+00,  2.5200e+00,  7.9405e-01, -1.1551e-01, -3.7488e-01,\n",
       "        2.8892e-01, -5.8730e-01, -4.1114e-01, -7.0489e-01,  1.5922e+00,\n",
       "       -1.5730e+00,  2.8335e-01,  1.8257e-01,  6.3384e-01,  1.1721e+00,\n",
       "        2.5943e+00, -1.9451e+00,  4.9006e-01, -1.7612e+00, -9.3695e-01,\n",
       "       -6.3983e-01,  1.0077e+00, -1.5534e+00,  8.7010e-01,  2.0343e+00,\n",
       "        1.0145e+00, -2.8832e+00,  2.6909e+00, -1.9177e+00, -1.4918e-01,\n",
       "       -3.4180e-01, -2.8276e+00, -3.5587e-01,  1.5721e+00, -2.0662e+00,\n",
       "       -2.3911e-01,  4.3540e-01,  1.8509e+00,  1.4073e+00,  1.5154e+00,\n",
       "        2.9261e-01,  1.0791e+00,  2.0171e+00,  2.2659e+00,  4.9966e-01,\n",
       "        1.9072e-02,  1.0897e+00,  5.9037e+00, -1.4131e+00, -2.0474e+00,\n",
       "       -6.2503e-01,  1.5981e-01, -2.3203e-01,  2.2391e+00,  1.2926e-01,\n",
       "        1.8489e+00, -1.7691e+00, -1.3274e+00,  7.9558e-02,  3.3628e+00,\n",
       "        7.8292e-02,  6.8315e-01, -2.5189e+00,  2.6232e+00, -1.6384e+00,\n",
       "        4.0162e-01, -4.5152e-01, -2.5638e-01,  2.5118e+00, -3.2744e+00,\n",
       "       -3.4498e-01, -1.5067e+00,  1.0978e-01,  6.4250e-01, -1.0342e+00,\n",
       "        2.3194e+00, -2.2906e-01, -2.2556e+00, -8.9371e-01,  4.2591e+00,\n",
       "       -2.2329e-01,  1.3143e+00, -7.9362e-01, -2.0068e-01, -2.7596e-01,\n",
       "        1.2350e-02,  1.9086e+00,  4.6130e+00, -1.4893e-02,  2.0788e+00,\n",
       "       -2.8025e+00,  2.5999e+00,  1.0574e+00,  2.2783e+00,  5.1731e-01,\n",
       "       -1.1206e-01, -1.6977e+00,  1.6837e+00,  1.7345e+00, -1.9189e+00,\n",
       "        3.0733e+00,  2.1464e+00,  2.1200e+00,  2.5016e+00,  1.0656e+00,\n",
       "       -1.4200e+00, -4.3732e-01, -2.1827e-01, -7.5910e-01,  2.5729e+00,\n",
       "       -2.0406e+00,  2.4017e-01, -4.4721e-01, -1.9973e+00, -2.3337e+00,\n",
       "       -2.5588e+00, -2.5854e+00, -1.8305e+00, -6.0957e-01, -7.3075e-01,\n",
       "       -2.4701e+00, -1.6961e+00, -2.6725e+00,  1.3850e+00,  3.0271e+00,\n",
       "        2.4141e+00,  1.8633e+00,  7.3569e-01,  8.6522e-01, -5.9936e-03,\n",
       "       -3.3396e+00, -2.6883e+00, -1.0641e+00,  3.2623e+00,  1.5304e+00,\n",
       "        1.7927e+00,  1.1080e-02,  1.2532e+00,  4.7291e-02, -9.1040e-01,\n",
       "       -2.3013e+00,  8.8354e-01, -3.3115e-01, -2.2916e-01, -1.0914e+00,\n",
       "        9.8501e-01,  5.7962e-01, -4.6688e-01,  3.6094e-01, -1.0670e+00,\n",
       "       -8.5964e-01,  6.6548e-01,  9.2829e-01,  1.9062e+00,  2.1538e-01,\n",
       "        7.1932e-01, -2.2618e+00,  2.5370e+00,  2.4871e+00,  2.2298e+00,\n",
       "       -1.0584e+00,  2.0684e+00,  5.4536e-01, -1.7957e-01, -3.1368e-01,\n",
       "       -1.9623e+00,  5.8706e-02,  1.5965e+00, -2.1879e-01, -3.6782e+00,\n",
       "       -2.4734e+00, -9.4626e-01,  1.8135e+00, -1.0580e+00, -3.0846e+00,\n",
       "        1.9114e+00, -2.3577e+00,  2.6143e+00,  4.0896e-01,  2.1505e+00,\n",
       "        7.6301e-01, -1.0068e+00, -4.4052e+00,  2.7831e-01,  7.4035e-02,\n",
       "        3.3645e-01, -2.2630e-01,  1.0124e+00,  1.2911e+00, -4.0399e+00,\n",
       "       -3.3520e+00,  3.0106e-01, -1.5838e+00,  3.7050e-01, -2.7355e+00,\n",
       "        1.0825e+00, -1.1772e+00,  1.6149e+00, -1.0308e+00,  2.9262e+00,\n",
       "        1.5110e-01,  2.1628e+00, -1.3373e+00, -1.2386e+00, -1.0002e+00,\n",
       "       -2.1806e+00,  1.0681e+00, -1.9147e+00,  1.1059e+00,  1.3387e+00],\n",
       "      dtype=float32)"
      ]
     },
     "execution_count": 13,
     "metadata": {},
     "output_type": "execute_result"
    }
   ],
   "source": [
    "token2.vector"
   ]
  }
 ],
 "metadata": {
  "kernelspec": {
   "display_name": "Python 3",
   "language": "python",
   "name": "python3"
  },
  "language_info": {
   "codemirror_mode": {
    "name": "ipython",
    "version": 3
   },
   "file_extension": ".py",
   "mimetype": "text/x-python",
   "name": "python",
   "nbconvert_exporter": "python",
   "pygments_lexer": "ipython3",
   "version": "3.8.5"
  }
 },
 "nbformat": 4,
 "nbformat_minor": 4
}
