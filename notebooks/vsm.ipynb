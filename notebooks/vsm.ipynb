{
 "cells": [
  {
   "cell_type": "markdown",
   "metadata": {
    "Collapsed": "false"
   },
   "source": [
    "# Esquemas de pesado para representar documentos\n",
    "\n",
    "Los modelos de espacio vectorial (*[vector space models](https://en.wikipedia.org/wiki/Vector_space_model) (VSMs)*) permiten representar palabras o términos dentro de un espacio vectorial continuo, de manera que las palabras que son similares desde el punto semántico se situan en puntos cercanos dentro de ese espacio común.\n",
    "\n",
    "![](https://d1avok0lzls2w.cloudfront.net/img_uploads/simplistic-term-vector-mode.gif)\n",
    "\n",
    "El uso de distintas aproximaciones de modelos de espacio vectorial tiene una larga tradición en PLN. Todas ellas comparten una misma hipótesis distribucional: las palabras o términos que comparten contextos tienen significados similares."
   ]
  },
  {
   "cell_type": "code",
   "execution_count": null,
   "metadata": {
    "Collapsed": "false"
   },
   "outputs": [],
   "source": [
    "# corpus ficticio con tres documentos de la misma longitud \n",
    "# y sin repeticiones de términos dentro del mismo documento\n",
    "\n",
    "# cada doc es una lista de palabras\n",
    "d1 = 'los angeles times'.split()\n",
    "d2 = 'new york times'.split()\n",
    "d3 = 'new york post'.split()\n",
    "\n",
    "# nuestro corpus D es una lista de documentos\n",
    "D = [d1, d2, d3]\n",
    "print(D)"
   ]
  },
  {
   "cell_type": "markdown",
   "metadata": {
    "Collapsed": "false"
   },
   "source": [
    "# tf (*term frequency*)\n",
    "\n",
    "[**tf**](https://en.wikipedia.org/wiki/Tf%E2%80%93idf#Term_frequency_2) es el peso que indica la frecuencia de un término, es decir, el número de veces que una determinada palabra aparece en un documento. \n",
    "\n",
    "La aproximación más sencilla consiste consiste en asignar como peso para el término $t$ en el documento $d$ del corpus $D$ (denotado como $\\mbox{tf}_{t,d}$) el número de ocurrencias de $t$ en $d$. Es recomendable normalizar esta frecuencia, diviendo el número de ocurrencias entre el número total de palabras de un documento, para no penalizar los documentos breves: $\\mathrm{tf}(t,d) = \\frac{\\mathrm{f}(t, d)}{\\max\\{\\mathrm{f}(w, d):w \\in d\\}}$\n",
    "\n",
    "Vamos a calcularlo.\n",
    "\n",
    "## Calculando tf (1er intento)"
   ]
  },
  {
   "cell_type": "code",
   "execution_count": null,
   "metadata": {
    "Collapsed": "false"
   },
   "outputs": [],
   "source": [
    "# calculamos los valores de tf para cada término t y cada docID \n",
    "# como un diccionario de diccionarios, tal que tf[t][docID] = valor\n",
    "\n",
    "tf = {}\n",
    "\n",
    "# iteramos sobre los documentos del corpus\n",
    "for d in D:\n",
    "    # iteramos sobre las palabras del documento\n",
    "    for t in d:\n",
    "        # si no he visto el término t antes, creo la clave en tf\n",
    "        if t not in tf:\n",
    "            tf[t] = {}\n",
    "        # ¿cuál es el doc que estoy procesando?    \n",
    "        docID = D.index(d) \n",
    "        # asigno el valor de tf para el término t y el documento actual\n",
    "        # (número de veces que aparece t dividido entre el número de palabras de d)\n",
    "        tf[t][docID] = d.count(t) / len(d) \n",
    "        \n",
    "        \n",
    "print(tf)"
   ]
  },
  {
   "cell_type": "markdown",
   "metadata": {
    "Collapsed": "false"
   },
   "source": [
    "La aproximación anterior, tal cual está programada, arma un diccionario de diccionarios pero tiene varias desventajas:\n",
    "\n",
    "- no almaceno los valores de tf para aquellos documentos que no contienen ninguna ocurrencia de t. \n",
    "- si las claves de mi diccionario son números enteros correlativos, como es el caso, haría mejor en utilizar una estructura de datos ordenada: una lista.\n",
    "\n",
    "\n",
    "## Calculando tf (2º intento)"
   ]
  },
  {
   "cell_type": "code",
   "execution_count": null,
   "metadata": {
    "Collapsed": "false"
   },
   "outputs": [],
   "source": [
    "# calculamos los valores de tf para cada término t y cada docID \n",
    "# como un diccionario de listas, tal que tf[t][i] = valor\n",
    "\n",
    "tf = {}\n",
    "\n",
    "# primera iteración, creo el esqueleto del diccionario de listas \n",
    "# iteramos sobre los documentos del corpus\n",
    "for d in D:\n",
    "    # iteramos sobre las palabras del documento\n",
    "    for t in d:\n",
    "        # relleno todas las casillas con 0\n",
    "        tf[t] = [0] * len(D)\n",
    "        \n",
    "print('tf solo contiene 0s')       \n",
    "print(tf)\n",
    "\n",
    "\n",
    "# segunda iteración, reasigno los valores sólo en aquellas posiciones donde sea necesario\n",
    "# iteramos sobre los documentos del corpus\n",
    "for d in D:\n",
    "    # iteramos sobre las palabras del documento\n",
    "    for t in d:\n",
    "        docID = D.index(d)\n",
    "        tf[t][docID] = d.count(t) / len(d)\n",
    "        \n",
    "print('\\ntf contiene los valores de tf que corresponden')       \n",
    "print(tf)"
   ]
  },
  {
   "cell_type": "markdown",
   "metadata": {
    "Collapsed": "false"
   },
   "source": [
    "En el caso de este corpus ficticio, todos los valores de tf son, o bien 0 (si el término no aparece en el documento), o bien $1/3$ si aparece una sola vez.\n",
    "\n",
    "\n",
    "# idf (*inverse document frequency*)\n",
    "\n",
    "Trabajar unicamente con las frecuencias de los términos conlleva un problema: todos los términos presentes en la colección se consideran igualmente relevantes a la hora de discriminar la relevancia de los documentos, atendiendo a sus frecuencias. Y resulta que esto no es verdad. \n",
    "\n",
    "Imaginemos un corpus en el que la frecuencia total de dos términos concretos, *este* y *fonema*, es similar en términos absolutos. La distribución de estos términos a lo largo de la coleccion es seguramente muy diferente. El primero aparece con una distribución uniforme a lo largo del corpus, su capacidad discriminativa es baja y debería penalizarse a la hora de asignar relevancia (como el resto de *stopwords*). El segundo, por el contrario, se concentra principalmente en documentos que hablan de fonología, su capacidad discriminativa es alta y debería ser premiado.\n",
    "\n",
    "Existen mecanismos correctores para incorporar estas penalizaciones y premios en nuestros pesos. Los más habituales pasan por recurrir a la frecuencia de documento $\\mbox{df}_t$, definida como el número de documentos de la colección $D$ que contienen el término $t$: $\\mbox{df}_t = {|\\{d \\in D: t \\in d\\}|}$.\n",
    "\n",
    "Más concretamente, se calcula la frecuencia inversa de documento, o [**idf**](https://en.wikipedia.org/wiki/Tf%E2%80%93idf#Inverse_document_frequency_2) (*inverse document frequency*), definida como: $\\mbox{idf}_t = \\log {|D|\\over \\mbox{df}_t}$, donde $|D|$ indica el número total de documentos de nuestra colección. De este modo, el **idf** de un término específico pero muy discriminativo será alto, mientras que el de un término muy frecuente a lo largo de la coleccion será bajo.\n",
    "\n",
    "## Calculando df"
   ]
  },
  {
   "cell_type": "code",
   "execution_count": null,
   "metadata": {
    "Collapsed": "false"
   },
   "outputs": [],
   "source": [
    "# calculamos los valores de df para cada término t\n",
    "df = {}\n",
    "\n",
    "# iteramos sobre los término del vocabulario\n",
    "for t in tf:\n",
    "    # reiniciamos los valores a 0\n",
    "    df[t] = 0\n",
    "    for d in D:\n",
    "        # para cada documento d que contenga a t, sumamos +1 al df correspondiente\n",
    "        if t in d:\n",
    "            df[t] += 1\n",
    "\n",
    "print(df)"
   ]
  },
  {
   "cell_type": "markdown",
   "metadata": {
    "Collapsed": "false"
   },
   "source": [
    "Los valores de **df** son números enteros: el número de documentos del corpus que contienen cada uno de los términos.\n",
    "\n",
    "## Calculando idf"
   ]
  },
  {
   "cell_type": "code",
   "execution_count": null,
   "metadata": {
    "Collapsed": "false"
   },
   "outputs": [],
   "source": [
    "import math\n",
    "\n",
    "# calculamos los valores de idf para cada término t\n",
    "idf = {}\n",
    "\n",
    "# iteramos sobre los término del vocabulario\n",
    "for t in tf:\n",
    "    idf[t] = math.log(len(D) / df[t])\n",
    "\n",
    "print(idf)"
   ]
  },
  {
   "cell_type": "markdown",
   "metadata": {
    "Collapsed": "false"
   },
   "source": [
    "Fíjate cómo interpretamos estos valores. Los términos que aparecen en un solo documento, tienen un **idf** más alto, son mejores *descriptores* del contenido de esos documentos, tienen más poder para discriminar *temáticas*. Los términos que se distribuyen en varios documentos tienen un **idf** más bajo, son peores descriptores.\n",
    "\n",
    "\n",
    "# tf.idf\n",
    "\n",
    "[**td.idf**](https://en.wikipedia.org/wiki/Tf%E2%80%93idf) (*term frequency - inverse document frequency*) es una medida numérica que expresa la relevancia de una palabra de un documento con respecto a una colección de documentos. Es uno de los esquemas de pesado más comunes en las tareas relacionadas con la recuperación de información y la minería de texto.\n",
    "\n",
    "El objetivo de esta métrica es representar los documentos de texto como vectores, ignorando el orden concreto de las palabras pero manteniendo la información relativa a las frecuencias de aparición. \n",
    "\n",
    "El valor de tf-idf de una palabra:\n",
    "\n",
    "- es mayor cuanto más frecuente sea esta palabra dentro de un documento concreto, pero;\n",
    "- es mayor cuando menos común sea la palabra en otros documentos de la colección.\n",
    "\n",
    "Estas dos características premian a los términos que son muy frecuentes en determinados documentos concretos pero poco comunes en general: estos términos pueden considerarse buenos descriptores de un conjunto de documentos. Y a la vez, penalizan aquellos términos que aparecen con mucha frecuencia a lo largo de toda la colección, como las *stopwords*.\n",
    "\n",
    "\n",
    "## Calculando **tf.idf**\n",
    "\n",
    "**tf.idf** se calcula como el producto de dos términos: $\\mathrm{tf.idf}(t, d, D) = \\mathrm{tf}(t, d) \\times \\mathrm{idf}(t, D)$\n",
    "\n",
    "- la frecuencia de un término (tf): el número de veces que una determinada palabra aparece en un documento. \n",
    "\n",
    "- la frecuencia inversa de documento (idf): el logaritmo del número total de documentos en el corpus dividido entre el número de documentos en los que el término aparece.\n",
    "\n",
    "Ya hemos calculado previamente esos valores. Bastará con realizar los productos."
   ]
  },
  {
   "cell_type": "code",
   "execution_count": null,
   "metadata": {
    "Collapsed": "false"
   },
   "outputs": [],
   "source": [
    "# calculamos los valores de tf.idf para cada término t y cada docID \n",
    "# como un diccionario de listas, tal que tfidf[t][i] = valor\n",
    "tfidf = {}\n",
    "\n",
    "# iteramos sobre los términos del vocabulario\n",
    "for t in tf:\n",
    "    tfidf[t] = [] # inicializamos con una lista vacía\n",
    "    # iteramos sobre los valores de tf del término t\n",
    "    for d in tf[t]:\n",
    "        # añadimos el nuevo valor multiplicando tf * idf\n",
    "        tfidf[t].append( d * idf[t])\n",
    "        \n",
    "print(tfidf)"
   ]
  },
  {
   "cell_type": "markdown",
   "metadata": {
    "Collapsed": "false"
   },
   "source": [
    "# Repetimos el experimento con más documentos\n",
    "\n",
    "Vamos a repetir todo lo visto hasta ahora en el cuaderno con otras colección ficticia de documentos.\n",
    "\n",
    "Parte del código de las celdas anteriores lo voy a codificar como funciones, de manera que podamos ejecutar el cálculo de los distintos valores de manera más clara. \n",
    "\n",
    "¡Allá vamos!"
   ]
  },
  {
   "cell_type": "code",
   "execution_count": null,
   "metadata": {
    "Collapsed": "false"
   },
   "outputs": [],
   "source": [
    "def calcula_tf(corpus):\n",
    "    \"\"\"Calcula los valores de tf para cada término t de un corpus. \n",
    "    Devuelve un diccionario de listas tf[t][docID] = valor\"\"\"\n",
    "    import math\n",
    "    tf = {}\n",
    "    # primera iteración, creo el esqueleto del diccionario de listas \n",
    "    # iteramos sobre los documentos del corpus\n",
    "    for d in corpus:\n",
    "        # iteramos sobre las palabras del documento\n",
    "        for t in d:\n",
    "            # rellenamos las casillas con casi el log de casi 0\n",
    "            tf[t] = [math.log(0.00000001)] * len(D)\n",
    "            \n",
    "    # segunda iteración, reasigno los valores sólo en aquellas posiciones donde sea necesario\n",
    "    # iteramos sobre los documentos del corpus\n",
    "    for d in corpus:\n",
    "        # iteramos sobre las palabras del documento\n",
    "        for t in d:\n",
    "            docID = corpus.index(d)\n",
    "            tf[t][docID] = 1 + math.log(d.count(t) / len(d)) # log normalization\n",
    "            \n",
    "    return tf"
   ]
  },
  {
   "cell_type": "code",
   "execution_count": null,
   "metadata": {
    "Collapsed": "false"
   },
   "outputs": [],
   "source": [
    "def calcula_idf(vocabulario, corpus):\n",
    "    \"\"\"Calcula los valores de idf para una lista de vocabulario y un corpus.\n",
    "    Devuelve un diccionario idf[t] = valor\"\"\"\n",
    "    import math    \n",
    "    # primero, calculamos los valores de df para cada término t\n",
    "    df = {}\n",
    "    # iteramos sobre los término del vocabulario\n",
    "    for t in vocabulario:\n",
    "        # reiniciamos los valores a 0\n",
    "        df[t] = 0\n",
    "        for d in corpus:\n",
    "            # para cada documento d que contenga a t, sumamos +1 al df correspondiente\n",
    "            if t in d:\n",
    "                df[t] += 1\n",
    "\n",
    "    # después, calculamos los valores de idf para cada término t\n",
    "    idf = {}\n",
    "    # iteramos sobre los término del vocabulario\n",
    "    for t in vocabulario:\n",
    "        idf[t] = math.log(len(corpus) / df[t])\n",
    "\n",
    "    return idf"
   ]
  },
  {
   "cell_type": "code",
   "execution_count": null,
   "metadata": {
    "Collapsed": "false"
   },
   "outputs": [],
   "source": [
    "def calcula_tfidf(tf, idf):\n",
    "    \"\"\"Calcula los valores de tf.idf para un diccionario de valores tf y otro de valores idf.\n",
    "    Devuelve un diccionario de listas tfidf[t][i] = valor\n",
    "    \"\"\"\n",
    "    tfidf = {}\n",
    "    # iteramos sobre los términos del vocabulario\n",
    "    for t in tf:\n",
    "        tfidf[t] = [] # inicializamos con una lista vacía\n",
    "        # iteramos sobre los valores de tf del término t\n",
    "        for d in tf[t]:\n",
    "            # añadimos el nuevo valor multiplicando tf * idf\n",
    "            tfidf[t].append( d * idf[t])\n",
    "\n",
    "    return tfidf"
   ]
  },
  {
   "cell_type": "code",
   "execution_count": null,
   "metadata": {
    "Collapsed": "false"
   },
   "outputs": [],
   "source": [
    "# construyo un nuevo corpus como una lista de docs, donde cada doc es una lista de palabras\n",
    "# https://www.goodreads.com/author/quotes/272231.Eminem\n",
    "\n",
    "eminem_quotes = \"\"\"Love when spelled backwards and read phonetically reads evil|\n",
    "Don’t do drugs don’t have unprotected sex don’t be violent Leave that to me|\n",
    "If you have enemies good that means you stood up for something|\n",
    "Somewhere deep down there's a decent man in me he just can't be found|\n",
    "I can't tell you what it really is I can only tell you what it feels like|\n",
    "Behind every sucessful person lies a pack of haters|\n",
    "Sometimes I'm real cool but sometimes I could be a real asshole I think everyone is like that|\n",
    "Love is just a word but you bring it definition|\n",
    "Damn How much damage can you do with a pen|\n",
    "Don't let them say you ain't beautiful They can all get fucked just stay true to you|\n",
    "I come from Detroit where it's rough and I'm not a smooth talker|\n",
    "If there's not drama and negativity in my life all my songs will be really wack and boring or something|\n",
    "I always wished for this but it's almost turning into more of a nightmare than a dream|\n",
    "Dealing with backstabbers there was one thing I learned They're only powerful when you got your back turned|\n",
    "When I say I'll murder my baby's mother maybe I wanted to but I didn't Anybody who takes it literally is 10 times sicker than I am|\n",
    "When you're a little kid you don't see color and the fact that my friends were black never crossed my mind It never became an issue until I was a teenager and started trying to rap|\n",
    "It sometimes feels like a strange movie you know it’s all so weird that sometimes I wonder if it is really happening|\n",
    "Personally I just think rap music is the best thing out there period If you look at my deck in my car radio you're always going to find a hip-hop tape; that's all I buy that's all I live that's all I listen to that's all I love|\n",
    "I'm just a little bit sicker then the average individual I think|\n",
    "Imma be what I set out to be without a doubt undoubtedly|\n",
    "The truth is you don't know what is going to happen tomorrow Life is a crazy ride and nothing is guaranteed|\n",
    "You'd have to walk a thousand miles in my shoes just to see what its like to be me|\n",
    "Don't let them tell you ain't beautiful|\n",
    "I act like shit don’t phase me inside it drives me crazy my insecurities could eat me alive|\n",
    "But music is reflection of self we just explain it and then we get our checks in the mail|\n",
    "Sometimes I feel like rap music is almost the key to stopping racism|\n",
    "I might talk about killing people but that doesn't mean I do it|\n",
    "Before I was famous when I was just working in Gilbert's Lodge everything was moving in slow motion|\"\"\".split('|\\n')\n",
    "\n",
    "# nuestro corpus D es una lista de documentos\n",
    "# cada doc es una lista de palabras\n",
    "D = []\n",
    "for quote in eminem_quotes:    \n",
    "    D.append( quote.lower().split() )"
   ]
  },
  {
   "cell_type": "markdown",
   "metadata": {
    "Collapsed": "false"
   },
   "source": [
    "Ahora sí lo probamos :-)"
   ]
  },
  {
   "cell_type": "code",
   "execution_count": null,
   "metadata": {
    "Collapsed": "false"
   },
   "outputs": [],
   "source": [
    "print('Calculando los valores tf... ', end='')\n",
    "tf = calcula_tf(D)\n",
    "print('¡ok!')\n",
    "\n",
    "print('Calculando los valores idf... ', end='')\n",
    "idf = calcula_idf(tf.keys(), D)\n",
    "print('¡ok!')\n",
    "\n",
    "print('Calculando los valores tf.idf... ', end='')\n",
    "tfidf = calcula_tfidf(tf, idf)\n",
    "print('¡ok!\\n\\n')"
   ]
  },
  {
   "cell_type": "code",
   "execution_count": null,
   "metadata": {
    "Collapsed": "false"
   },
   "outputs": [],
   "source": [
    "# imprimimos los valores de algunos términos\n",
    "print('love', tfidf['love'], '\\n')\n",
    "print('the', tfidf['the'], '\\n')\n",
    "print('backwards', tfidf['backwards'], '\\n')\n",
    "print('killing', tfidf['killing'], '\\n')"
   ]
  },
  {
   "cell_type": "code",
   "execution_count": null,
   "metadata": {
    "Collapsed": "false"
   },
   "outputs": [],
   "source": [
    "print('Los valores tf.idf para cada término del vocabulario son:')\n",
    "for t in tfidf:\n",
    "    print(t, '=>')\n",
    "    print(tfidf[t], '\\n\\n')"
   ]
  },
  {
   "cell_type": "markdown",
   "metadata": {
    "Collapsed": "false"
   },
   "source": [
    "### Referencias\n",
    "\n",
    "- [tf-idf en Wikipedia](https://en.wikipedia.org/wiki/Tf%E2%80%93idf)\n",
    "- [The Vector Space Model](http://nlp.stanford.edu/IR-book/html/htmledition/scoring-term-weighting-and-the-vector-space-model-1.html)\n",
    "- [tf.idf with Google n-Grams and POS Tags](http://trimc-nlp.blogspot.com.es/2013/04/tfidf-with-google-n-grams-and-pos-tags.html)\n",
    "- [Vector Representations of Words](https://www.tensorflow.org/versions/master/tutorials/word2vec/index.html)"
   ]
  }
 ],
 "metadata": {
  "kernelspec": {
   "display_name": "Python 3",
   "language": "python",
   "name": "python3"
  },
  "language_info": {
   "codemirror_mode": {
    "name": "ipython",
    "version": 3
   },
   "file_extension": ".py",
   "mimetype": "text/x-python",
   "name": "python",
   "nbconvert_exporter": "python",
   "pygments_lexer": "ipython3",
   "version": "3.8.5"
  }
 },
 "nbformat": 4,
 "nbformat_minor": 4
}
