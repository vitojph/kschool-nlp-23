{
 "cells": [
  {
   "cell_type": "code",
   "execution_count": 1,
   "metadata": {
    "Collapsed": "false"
   },
   "outputs": [],
   "source": [
    "# install the requirements\n",
    "# !pip install flair"
   ]
  },
  {
   "cell_type": "markdown",
   "metadata": {
    "Collapsed": "false"
   },
   "source": [
    "# `flair`: la librería NLP de Zalando Research\n",
    "\n",
    "La compañia Zalando tiene necesidades de aplicar NLP en distintos ámbitos y su equipo de investigaación ha liberado recientemente [`flair`](https://github.com/zalandoresearch/flair), su librería de NLP.\n",
    "\n",
    "`flair` permite acceder a funcionalidades muy interesantes para procesar lenguaje natural, algunas de ellas muy modernas como:\n",
    "\n",
    "- [etiquetar morfo-sintácticamente](https://github.com/zalandoresearch/flair/blob/master/resources/docs/TUTORIAL_2_TAGGING.md)\n",
    "- extraer entidades\n",
    "- clasificar automáticamente texto\n",
    "- entrenar tus propios modelos para [construir otros clasificadores](https://towardsdatascience.com/text-classification-with-state-of-the-art-nlp-library-flair-b541d7add21f)\n",
    "- [cargar vectores de palabras en decenas de lenguas](https://github.com/zalandoresearch/flair/blob/master/resources/docs/TUTORIAL_3_WORD_EMBEDDING.md)\n",
    "- [usar vectores contextuales como BERT, ELMo](https://github.com/zalandoresearch/flair/blob/master/resources/docs/TUTORIAL_4_ELMO_BERT_FLAIR_EMBEDDING.md)\n",
    "\n",
    "Veamos cómo podemos acceder a algunas de sus funcionalidades.\n",
    "\n",
    "## Análisis morfo-sintáctico\n",
    "\n",
    "Para analizar sintácticamente un texto, necesitamos cargar un etiquetador con un modelo concreto de información morfo-sintáctica. Por ejemplo, uno capaz de analizar varias lenguas.\n"
   ]
  },
  {
   "cell_type": "code",
   "execution_count": 2,
   "metadata": {
    "Collapsed": "false"
   },
   "outputs": [
    {
     "name": "stdout",
     "output_type": "stream",
     "text": [
      "2021-01-31 12:00:07,014 loading file /home/victor/.flair/models/pos-multi-fast.pt\n"
     ]
    }
   ],
   "source": [
    "from flair.data import Sentence\n",
    "from flair.models import SequenceTagger\n",
    "\n",
    "# cargamos el analizador multi-idioma\n",
    "tagger = SequenceTagger.load(\"pos-multi-fast\")"
   ]
  },
  {
   "cell_type": "code",
   "execution_count": 3,
   "metadata": {
    "Collapsed": "false"
   },
   "outputs": [
    {
     "name": "stdout",
     "output_type": "stream",
     "text": [
      "Facebook <PROPN> nació <VERB> hace <VERB> década <NOUN> y <CCONJ> media <NOUN> tras <ADP> una <DET> noche <NOUN> de <ADP> copas <NOUN> de <ADP> Mark <PROPN> Zuckerberg <PROPN> . <PUNCT>\n",
      "Grand <ADJ> débat <NOUN> national <ADJ> : <PUNCT> suivez <VERB> Emmanuel <PROPN> Macron <PROPN> en <ADP> direct <NOUN> de <ADP> Bordeaux <PROPN> . <PUNCT>\n",
      "Hier <ADV> an <ADP> der <DET> Zufahrt <NOUN> zur <ADP> Startrampe <NOUN> 39A <PROPN> , <PUNCT> wo <ADV> vor <ADP> 50 <NUM> Jahren <NOUN> die <DET> gigantischen <ADJ> Saturn-Raketen <NOUN> der <DET> Apollo-Mondmissionen <NOUN> im <ADJ> Schneckentempo <NOUN> vorbeigefahren <VERB> sind <AUX> , <PUNCT> prangen <VERB> nun <ADV> die <DET> blauen <ADJ> Lettern <NOUN> des <DET> Raumfahrtunternehmens <NOUN> von <ADP> Elon <PROPN> Musk <PROPN> an <ADP> einem <DET> Hangar <NOUN> . <PUNCT>\n"
     ]
    }
   ],
   "source": [
    "sentence1 = Sentence(\n",
    "    \"Facebook nació hace década y media tras una noche de copas de Mark Zuckerberg. \"\n",
    ")\n",
    "tagger.predict(sentence1)\n",
    "# imprimimos el análisis\n",
    "print(sentence1.to_tagged_string())\n",
    "\n",
    "sentence2 = Sentence(\n",
    "    \"Grand débat national: suivez Emmanuel Macron en direct de Bordeaux. \"\n",
    ")\n",
    "tagger.predict(sentence2)\n",
    "# imprimimos el análisis\n",
    "print(sentence2.to_tagged_string())\n",
    "\n",
    "sentence3 = Sentence(\n",
    "    \"Hier an der Zufahrt zur Startrampe 39A, wo vor 50 Jahren die gigantischen Saturn-Raketen der Apollo-Mondmissionen im Schneckentempo vorbeigefahren sind, prangen nun die blauen Lettern des Raumfahrtunternehmens von Elon Musk an einem Hangar.\"\n",
    ")\n",
    "tagger.predict(sentence3)\n",
    "# imprimimos el análisis\n",
    "print(sentence3.to_tagged_string())"
   ]
  },
  {
   "cell_type": "markdown",
   "metadata": {
    "Collapsed": "false"
   },
   "source": [
    "## Reconocimiento de entidades\n",
    "\n",
    "Para el reconocimiento de entidades varios modelos en diferentes lenguas. Aquí probamos con uno entrenado solo para inglés."
   ]
  },
  {
   "cell_type": "code",
   "execution_count": 4,
   "metadata": {
    "Collapsed": "false"
   },
   "outputs": [
    {
     "name": "stdout",
     "output_type": "stream",
     "text": [
      "2021-01-31 12:00:31,260 loading file /home/victor/.flair/models/en-ner-fast-conll03-v0.4.pt\n"
     ]
    }
   ],
   "source": [
    "from flair.data import Sentence\n",
    "from flair.models import SequenceTagger\n",
    "\n",
    "# cargamos el reconocedor de entidades\n",
    "tagger = SequenceTagger.load(\"ner-fast\")"
   ]
  },
  {
   "cell_type": "code",
   "execution_count": 5,
   "metadata": {
    "Collapsed": "false"
   },
   "outputs": [
    {
     "name": "stdout",
     "output_type": "stream",
     "text": [
      "Behind closed doors , freshman Rep <S-MISC> . Alexandria <B-PER> Ocasio-Cortez <E-PER> threatened to put those voting with Republicans <S-MISC> “ on a list ” for a primary challenge in the 2020 election .\n",
      "Span [6]: \"Rep\"   [− Labels: MISC (0.9229)]\n",
      "Span [8,9]: \"Alexandria Ocasio-Cortez\"   [− Labels: PER (0.9783)]\n",
      "Span [16]: \"Republicans\"   [− Labels: MISC (0.9996)]\n",
      "{'text': 'Behind closed doors, freshman Rep. Alexandria Ocasio-Cortez threatened to put those voting with Republicans “on a list” for a primary challenge in the 2020 election.', 'labels': [], 'entities': [{'text': 'Rep', 'start_pos': 30, 'end_pos': 33, 'labels': [MISC (0.9229)]}, {'text': 'Alexandria Ocasio-Cortez', 'start_pos': 35, 'end_pos': 59, 'labels': [PER (0.9783)]}, {'text': 'Republicans', 'start_pos': 96, 'end_pos': 107, 'labels': [MISC (0.9996)]}]}\n"
     ]
    }
   ],
   "source": [
    "# analizamos una oración\n",
    "sentence = Sentence(\n",
    "    \"Behind closed doors, freshman Rep. Alexandria Ocasio-Cortez threatened to put those voting with Republicans “on a list” for a primary challenge in the 2020 election.\"\n",
    ")\n",
    "tagger.predict(sentence)\n",
    "\n",
    "# imprimimos el análisis\n",
    "print(sentence.to_tagged_string())\n",
    "\n",
    "# iteramos por la entidades\n",
    "for entity in sentence.get_spans(\"ner\"):\n",
    "    print(entity)\n",
    "\n",
    "# o imprimimos la estructura de datos con el análisis completo\n",
    "print(sentence.to_dict(tag_type=\"ner\"))"
   ]
  },
  {
   "cell_type": "markdown",
   "metadata": {
    "Collapsed": "false"
   },
   "source": [
    "## Análisis de Opinión\n",
    "\n",
    "También podemos utilizar un clasificador de textos y cargar el modelo entrenado con sentimiento, para poder detectar opiniones positivas y negativas."
   ]
  },
  {
   "cell_type": "code",
   "execution_count": 7,
   "metadata": {
    "Collapsed": "false"
   },
   "outputs": [
    {
     "name": "stdout",
     "output_type": "stream",
     "text": [
      "2021-01-31 12:00:34,268 loading file /home/victor/.flair/models/sentiment-en-mix-distillbert_3.1.pt\n"
     ]
    }
   ],
   "source": [
    "from flair.models import TextClassifier\n",
    "from flair.data import Sentence\n",
    "\n",
    "classifier = TextClassifier.load(\"en-sentiment\")"
   ]
  },
  {
   "cell_type": "code",
   "execution_count": 8,
   "metadata": {
    "Collapsed": "false"
   },
   "outputs": [
    {
     "name": "stdout",
     "output_type": "stream",
     "text": [
      "La frase 'I love ice-cream!' es [POSITIVE (0.9993)]\n",
      "La frase 'Don't ever go to this restaurant. The food was horrible :-(' es [NEGATIVE (1.0)]\n"
     ]
    }
   ],
   "source": [
    "sentence1 = Sentence(\"I love ice-cream!\")\n",
    "classifier.predict(sentence1)\n",
    "print(\"La frase '{}' es {}\".format(sentence1.to_plain_string(), sentence1.labels))\n",
    "\n",
    "sentence2 = Sentence(\"Don't ever go to this restaurant. The food was horrible :-(\")\n",
    "classifier.predict(sentence2)\n",
    "print(\"La frase '{}' es {}\".format(sentence2.to_plain_string(), sentence2.labels))"
   ]
  }
 ],
 "metadata": {
  "kernelspec": {
   "display_name": "Python 3",
   "language": "python",
   "name": "python3"
  },
  "language_info": {
   "codemirror_mode": {
    "name": "ipython",
    "version": 3
   },
   "file_extension": ".py",
   "mimetype": "text/x-python",
   "name": "python",
   "nbconvert_exporter": "python",
   "pygments_lexer": "ipython3",
   "version": "3.8.5"
  }
 },
 "nbformat": 4,
 "nbformat_minor": 4
}
